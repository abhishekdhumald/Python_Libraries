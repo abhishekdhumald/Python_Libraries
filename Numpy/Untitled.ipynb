{
 "cells": [
  {
   "cell_type": "code",
   "execution_count": 2,
   "id": "4c20f5af",
   "metadata": {},
   "outputs": [],
   "source": [
    "# Difference between Numpy Array and Python List"
   ]
  },
  {
   "cell_type": "code",
   "execution_count": 6,
   "id": "91a19c57",
   "metadata": {},
   "outputs": [],
   "source": [
    " import numpy as np"
   ]
  },
  {
   "cell_type": "code",
   "execution_count": null,
   "id": "375de1d1",
   "metadata": {},
   "outputs": [],
   "source": []
  },
  {
   "cell_type": "code",
   "execution_count": 7,
   "id": "d541d402",
   "metadata": {},
   "outputs": [
    {
     "name": "stderr",
     "output_type": "stream",
     "text": [
      "UsageError: Line magic function `%%timeit` not found.\n"
     ]
    }
   ],
   "source": [
    "# calculating time to generate a list\n",
    "%%timeit \n",
    "\n",
    "li = []\n",
    "\n",
    "for num in range(1, 100+1):\n",
    "    li.append(num**2)"
   ]
  },
  {
   "cell_type": "code",
   "execution_count": 8,
   "id": "36fbecb3",
   "metadata": {},
   "outputs": [
    {
     "name": "stdout",
     "output_type": "stream",
     "text": [
      "19.3 µs ± 222 ns per loop (mean ± std. dev. of 7 runs, 100,000 loops each)\n"
     ]
    }
   ],
   "source": [
    "%timeit [i**2 for i in range(1, 100+1)]"
   ]
  },
  {
   "cell_type": "code",
   "execution_count": null,
   "id": "b10a057c",
   "metadata": {},
   "outputs": [],
   "source": []
  },
  {
   "cell_type": "code",
   "execution_count": 9,
   "id": "d354cd20",
   "metadata": {},
   "outputs": [
    {
     "name": "stdout",
     "output_type": "stream",
     "text": [
      "1.03 µs ± 28.7 ns per loop (mean ± std. dev. of 7 runs, 1,000,000 loops each)\n"
     ]
    }
   ],
   "source": [
    "# calculating time to generate a np array\n",
    "%timeit (np.arange(1,100+1))**2"
   ]
  },
  {
   "cell_type": "code",
   "execution_count": null,
   "id": "5895ee9a",
   "metadata": {},
   "outputs": [],
   "source": []
  },
  {
   "cell_type": "markdown",
   "id": "6ffd3973",
   "metadata": {},
   "source": [
    "# Array"
   ]
  },
  {
   "cell_type": "code",
   "execution_count": 10,
   "id": "81ca9dba",
   "metadata": {},
   "outputs": [
    {
     "name": "stdout",
     "output_type": "stream",
     "text": [
      "[1 2 3 4]\n",
      "<class 'numpy.ndarray'>\n"
     ]
    }
   ],
   "source": [
    "li = [1, 2, 3, 4]\n",
    "\n",
    "\n",
    "# Creating numpy array\n",
    "np_li = np.array(li)\n",
    "\n",
    "# printing array \n",
    "print(np_li)\n",
    "\n",
    "# printing array type\n",
    "print(type(np_li))"
   ]
  },
  {
   "cell_type": "code",
   "execution_count": 16,
   "id": "9279dbce",
   "metadata": {},
   "outputs": [
    {
     "name": "stdout",
     "output_type": "stream",
     "text": [
      "Enter Number :3\n",
      "Enter Number :5\n",
      "Enter Number :7\n",
      "Enter Number :4\n",
      "Enter Number :3\n",
      "[3 5 7 4 3]\n"
     ]
    }
   ],
   "source": [
    "# creating empty list\n",
    "l = []\n",
    "\n",
    "# running for loop from 1 to 5\n",
    "for i in range(1, 6):\n",
    "    # Getting input from user in int format\n",
    "    val = int(input(\"Enter Number :\"))\n",
    "    \n",
    "    # appending the value to list l\n",
    "    l.append(val)\n",
    "    \n",
    "# converting list l to numpy array and printing \n",
    "print(np.array(l))\n",
    "\n",
    "np_l = np.array(l)"
   ]
  },
  {
   "cell_type": "code",
   "execution_count": 17,
   "id": "8e1927bc",
   "metadata": {},
   "outputs": [
    {
     "name": "stdout",
     "output_type": "stream",
     "text": [
      "1\n",
      "1\n"
     ]
    }
   ],
   "source": [
    "print(np_li.ndim)\n",
    "print(np_l.ndim)"
   ]
  },
  {
   "cell_type": "code",
   "execution_count": 27,
   "id": "c7e392bb",
   "metadata": {},
   "outputs": [
    {
     "name": "stdout",
     "output_type": "stream",
     "text": [
      "[[1 2 4 5 6]]\n",
      "2\n"
     ]
    }
   ],
   "source": [
    "# Creating a 2d np array\n",
    "arr2 = np.array([[1,2,4,5,6]])\n",
    "\n",
    "# printing arr2\n",
    "print(arr2)\n",
    "\n",
    "# printing dimensions of arr2\n",
    "print(arr2.ndim)"
   ]
  },
  {
   "cell_type": "code",
   "execution_count": 28,
   "id": "bddf8d56",
   "metadata": {},
   "outputs": [
    {
     "name": "stdout",
     "output_type": "stream",
     "text": [
      "[[1 2 4 5 6]\n",
      " [1 2 3 4 6]]\n",
      "2\n"
     ]
    }
   ],
   "source": [
    "# Creating a 2d np array\n",
    "arr2 = np.array([[1,2,4,5,6],[1,2,3,4,6]])\n",
    "\n",
    "# printing arr2\n",
    "print(arr2)\n",
    "\n",
    "# printing dimensions of arr2\n",
    "print(arr2.ndim)"
   ]
  },
  {
   "cell_type": "code",
   "execution_count": 30,
   "id": "ca708066",
   "metadata": {},
   "outputs": [
    {
     "name": "stdout",
     "output_type": "stream",
     "text": [
      "[[1 2 3]\n",
      " [4 5 6]\n",
      " [7 8 9]]\n"
     ]
    }
   ],
   "source": [
    "# Creating a 3x3 2D array\n",
    "arr3 = np.array([\n",
    "    [1,2,3],\n",
    "    [4,5,6],\n",
    "    [7,8,9]\n",
    "])\n",
    "print(arr3)"
   ]
  },
  {
   "cell_type": "code",
   "execution_count": 37,
   "id": "fb3b5fc8",
   "metadata": {},
   "outputs": [
    {
     "name": "stdout",
     "output_type": "stream",
     "text": [
      "[[[1 2 3]\n",
      "  [4 5 6]]]\n",
      "3\n"
     ]
    }
   ],
   "source": [
    "# Creating a 3D array\n",
    "arr3d = np.array([[[1,2,3],[4,5,6]]])\n",
    "print(arr3d)\n",
    "print(arr3d.ndim)"
   ]
  },
  {
   "cell_type": "code",
   "execution_count": 42,
   "id": "1b6ca8c0",
   "metadata": {},
   "outputs": [
    {
     "name": "stdout",
     "output_type": "stream",
     "text": [
      "[[[[[[[[[[1 2 3]]]]]]]]]]\n",
      "10\n"
     ]
    }
   ],
   "source": [
    "# Creating n-dimensional array\n",
    "arn = np.array([[1,2,3]], ndmin=10)\n",
    "print(arn)\n",
    "print(arn.ndim)\n"
   ]
  },
  {
   "cell_type": "code",
   "execution_count": null,
   "id": "ded83882",
   "metadata": {},
   "outputs": [],
   "source": []
  }
 ],
 "metadata": {
  "kernelspec": {
   "display_name": "Python 3 (ipykernel)",
   "language": "python",
   "name": "python3"
  },
  "language_info": {
   "codemirror_mode": {
    "name": "ipython",
    "version": 3
   },
   "file_extension": ".py",
   "mimetype": "text/x-python",
   "name": "python",
   "nbconvert_exporter": "python",
   "pygments_lexer": "ipython3",
   "version": "3.10.0"
  }
 },
 "nbformat": 4,
 "nbformat_minor": 5
}
