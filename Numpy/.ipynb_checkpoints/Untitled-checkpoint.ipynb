{
 "cells": [
  {
   "cell_type": "code",
   "execution_count": null,
   "id": "4c20f5af",
   "metadata": {},
   "outputs": [],
   "source": [
    "# Difference between Numpy Array and Python List"
   ]
  },
  {
   "cell_type": "code",
   "execution_count": 1,
   "id": "91a19c57",
   "metadata": {},
   "outputs": [],
   "source": [
    " import numpy as np"
   ]
  },
  {
   "cell_type": "code",
   "execution_count": null,
   "id": "375de1d1",
   "metadata": {},
   "outputs": [],
   "source": []
  },
  {
   "cell_type": "code",
   "execution_count": 12,
   "id": "d541d402",
   "metadata": {},
   "outputs": [
    {
     "name": "stdout",
     "output_type": "stream",
     "text": [
      "20.8 µs ± 355 ns per loop (mean ± std. dev. of 7 runs, 10,000 loops each)\n"
     ]
    }
   ],
   "source": [
    "# calculating time to generate a list\n",
    "%%timeit \n",
    "\n",
    "li = []\n",
    "\n",
    "for num in range(1, 100+1):\n",
    "    li.append(num**2)"
   ]
  },
  {
   "cell_type": "code",
   "execution_count": 15,
   "id": "36fbecb3",
   "metadata": {},
   "outputs": [
    {
     "name": "stdout",
     "output_type": "stream",
     "text": [
      "18.9 µs ± 182 ns per loop (mean ± std. dev. of 7 runs, 100,000 loops each)\n"
     ]
    }
   ],
   "source": [
    "%timeit [i**2 for i in range(1, 100+1)]"
   ]
  },
  {
   "cell_type": "code",
   "execution_count": null,
   "id": "b10a057c",
   "metadata": {},
   "outputs": [],
   "source": []
  },
  {
   "cell_type": "code",
   "execution_count": 14,
   "id": "d354cd20",
   "metadata": {},
   "outputs": [
    {
     "name": "stdout",
     "output_type": "stream",
     "text": [
      "1.02 µs ± 40.7 ns per loop (mean ± std. dev. of 7 runs, 1,000,000 loops each)\n"
     ]
    }
   ],
   "source": [
    "# calculating time to generate a np array\n",
    "%timeit (np.arange(1,100+1))**2"
   ]
  },
  {
   "cell_type": "code",
   "execution_count": null,
   "id": "5895ee9a",
   "metadata": {},
   "outputs": [],
   "source": []
  },
  {
   "cell_type": "markdown",
   "id": "6ffd3973",
   "metadata": {},
   "source": [
    "# Array"
   ]
  },
  {
   "cell_type": "code",
   "execution_count": 18,
   "id": "81ca9dba",
   "metadata": {},
   "outputs": [
    {
     "name": "stdout",
     "output_type": "stream",
     "text": [
      "[1 2 3 4]\n",
      "<class 'numpy.ndarray'>\n"
     ]
    }
   ],
   "source": [
    "li = [1, 2, 3, 4]\n",
    "\n",
    "\n",
    "# Creating numpy array\n",
    "np_li = np.array(li)\n",
    "\n",
    "# printing array \n",
    "print(np_li)\n",
    "\n",
    "# printing array type\n",
    "print(type(np_li))"
   ]
  },
  {
   "cell_type": "code",
   "execution_count": 21,
   "id": "9279dbce",
   "metadata": {},
   "outputs": [
    {
     "name": "stdout",
     "output_type": "stream",
     "text": [
      "Enter Number :3\n",
      "Enter Number :2\n",
      "Enter Number :4\n",
      "Enter Number :1\n",
      "Enter Number :3\n",
      "[3 2 4 1 3]\n"
     ]
    }
   ],
   "source": [
    "# creating empty list\n",
    "l = []\n",
    "\n",
    "# running for loop from 1 to 5\n",
    "for i in range(1, 6):\n",
    "    # Getting input from user in int format\n",
    "    val = int(input(\"Enter Number :\"))\n",
    "    \n",
    "    # appending the value to list l\n",
    "    l.append(val)\n",
    "    \n",
    "# converting list l to numpy array and printing \n",
    "print(np.array(l))"
   ]
  },
  {
   "cell_type": "code",
   "execution_count": null,
   "id": "8e1927bc",
   "metadata": {},
   "outputs": [],
   "source": []
  },
  {
   "cell_type": "code",
   "execution_count": null,
   "id": "e4d3b2d6",
   "metadata": {},
   "outputs": [],
   "source": []
  }
 ],
 "metadata": {
  "kernelspec": {
   "display_name": "Python 3 (ipykernel)",
   "language": "python",
   "name": "python3"
  },
  "language_info": {
   "codemirror_mode": {
    "name": "ipython",
    "version": 3
   },
   "file_extension": ".py",
   "mimetype": "text/x-python",
   "name": "python",
   "nbconvert_exporter": "python",
   "pygments_lexer": "ipython3",
   "version": "3.10.0"
  }
 },
 "nbformat": 4,
 "nbformat_minor": 5
}
